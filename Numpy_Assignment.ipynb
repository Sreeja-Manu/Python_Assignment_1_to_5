{
 "cells": [
  {
   "cell_type": "markdown",
   "metadata": {},
   "source": [
    "## NUMPY ASSIGNMENT"
   ]
  },
  {
   "cell_type": "markdown",
   "metadata": {},
   "source": [
    "***"
   ]
  },
  {
   "cell_type": "markdown",
   "metadata": {},
   "source": [
    "\n",
    "### Qn.1. Write a function so that the columns of the output matrix are powers of the input vector.\n",
    "\n",
    "#### The order of the powers is determined by the increasing boolean argument.Specifically, when increasing is False, the i-th output column is the input vector raised element-wise power of N-i-1.\n",
    "#### HINT: Such a matrix with a geometric progression in each row is named for Alexandre Theophile Vandermonde"
   ]
  },
  {
   "cell_type": "code",
   "execution_count": 7,
   "metadata": {},
   "outputs": [],
   "source": [
    "import numpy as np\n",
    "\n",
    "x=np.array([1,2,3,4,5])\n",
    "\n",
    "def vander_matrix(x):\n",
    "    N=4 #N is the size of the column\n",
    "    \n",
    "    mat= np.column_stack([x**(N-i-1) for i in range(N)])  \n",
    "    #iterating through the elements in array x for its power raised to N-i-1 as in the question column_stack is used to stack 1-D array as columns in a 2-D array\n",
    "    \n",
    "    return mat                                            "
   ]
  },
  {
   "cell_type": "code",
   "execution_count": 8,
   "metadata": {},
   "outputs": [
    {
     "data": {
      "text/plain": [
       "array([[  1,   1,   1,   1],\n",
       "       [  8,   4,   2,   1],\n",
       "       [ 27,   9,   3,   1],\n",
       "       [ 64,  16,   4,   1],\n",
       "       [125,  25,   5,   1]], dtype=int32)"
      ]
     },
     "execution_count": 8,
     "metadata": {},
     "output_type": "execute_result"
    }
   ],
   "source": [
    "vander_matrix(x)"
   ]
  },
  {
   "cell_type": "markdown",
   "metadata": {},
   "source": [
    "### Qn2.Write a function to find moving average in an array over a window:\n",
    "### Test it over [3,5,7,2,8,10,11,65,72,81,99,100,150] and window of 3"
   ]
  },
  {
   "cell_type": "code",
   "execution_count": 5,
   "metadata": {},
   "outputs": [],
   "source": [
    "import numpy as np\n",
    "\n",
    "seq=[3,5,7,2,8,10,11,65,72,81,99,100,150] # here seq is the given input list of elements\n",
    "w=3                                     \n",
    "def moving_average(seq,w):\n",
    "    n=len(seq)    # n is the length of the list\n",
    "   \n",
    "    for i in range(n-w+1):  #iterating throught the list to find the average for a window of 3 till n-w+1,ie., 11 values should be displayed\n",
    "        \n",
    "        x=sum(seq[i:i+w])  \n",
    "        #find the sum of the elements in seq for index equal to window,ie., during first iteration, 3 elements from the list will be taken--> (3+5+7)will be value of x\n",
    "        \n",
    "        mavg=x/w \n",
    "        #finding moving average by dividing sum by window.With respect to the above step, for 1st iteration it becomes (3+5+7)/3=15/3=5.0 which is the first output\n",
    "        \n",
    "        print(mavg)"
   ]
  },
  {
   "cell_type": "code",
   "execution_count": 6,
   "metadata": {},
   "outputs": [
    {
     "name": "stdout",
     "output_type": "stream",
     "text": [
      "5.0\n",
      "4.666666666666667\n",
      "5.666666666666667\n",
      "6.666666666666667\n",
      "9.666666666666666\n",
      "28.666666666666668\n",
      "49.333333333333336\n",
      "72.66666666666667\n",
      "84.0\n",
      "93.33333333333333\n",
      "116.33333333333333\n"
     ]
    }
   ],
   "source": [
    "moving_average(seq,w)"
   ]
  },
  {
   "cell_type": "code",
   "execution_count": null,
   "metadata": {},
   "outputs": [],
   "source": []
  }
 ],
 "metadata": {
  "kernelspec": {
   "display_name": "Python 3",
   "language": "python",
   "name": "python3"
  },
  "language_info": {
   "codemirror_mode": {
    "name": "ipython",
    "version": 3
   },
   "file_extension": ".py",
   "mimetype": "text/x-python",
   "name": "python",
   "nbconvert_exporter": "python",
   "pygments_lexer": "ipython3",
   "version": "3.7.0"
  }
 },
 "nbformat": 4,
 "nbformat_minor": 2
}
